{
 "cells": [
  {
   "cell_type": "code",
   "execution_count": 1,
   "metadata": {},
   "outputs": [],
   "source": [
    "import os\n",
    "import requests\n",
    "import json\n",
    "import shutil\n",
    "\n",
    "os.chdir('imaterialist-challenge-furniture-2018/')\n",
    "\n",
    "train_data = json.load(open('train.json'))\n",
    "\n",
    "images_arr = train_data['images']\n",
    "annotations_arr = train_data['annotations']\n",
    "os.makedirs('train_data')"
   ]
  },
  {
   "cell_type": "code",
   "execution_count": null,
   "metadata": {},
   "outputs": [],
   "source": [
    "for img in images_arr:\n",
    "    if img['image_id'] % 1000 == 0:\n",
    "        print(\"Finished {} out of 194,828\".format(img['image_id']))\n",
    "    try:\n",
    "        r = requests.get(img['url'][0],timeout=10)\n",
    "        folder_path = 'train_data/'\n",
    "        with open(folder_path+str(img['image_id'])+'.jpg','wb') as f:\n",
    "            f.write(r.content)\n",
    "        f.close()\n",
    "\n",
    "    except Exception as e:\n",
    "        print(e)"
   ]
  },
  {
   "cell_type": "code",
   "execution_count": null,
   "metadata": {},
   "outputs": [],
   "source": []
  }
 ],
 "metadata": {
  "kernelspec": {
   "display_name": "Python 3",
   "language": "python",
   "name": "python3"
  },
  "language_info": {
   "codemirror_mode": {
    "name": "ipython",
    "version": 3
   },
   "file_extension": ".py",
   "mimetype": "text/x-python",
   "name": "python",
   "nbconvert_exporter": "python",
   "pygments_lexer": "ipython3",
   "version": "3.5.2"
  },
  "widgets": {
   "state": {},
   "version": "1.1.2"
  }
 },
 "nbformat": 4,
 "nbformat_minor": 2
}
