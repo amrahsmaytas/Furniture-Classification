{
 "cells": [
  {
   "cell_type": "code",
   "execution_count": 2,
   "metadata": {},
   "outputs": [],
   "source": [
    "import os\n",
    "import requests\n",
    "import json\n",
    "import shutil\n",
    "\n",
    "os.chdir('imaterialist-challenge-furniture-2018/')\n",
    "\n",
    "train_data = json.load(open('train.json'))\n",
    "\n",
    "images_arr = train_data['images']\n",
    "annotations_arr = train_data['annotations']\n",
    "os.makedirs('train_data')"
   ]
  },
  {
   "cell_type": "code",
   "execution_count": null,
   "metadata": {},
   "outputs": [
    {
     "name": "stdout",
     "output_type": "stream",
     "text": [
      "HTTPConnectionPool(host='img5.duitang.com', port=80): Max retries exceeded with url: /uploads/blog/201407/11/20140711190304_5JrLh.jpeg (Caused by ConnectTimeoutError(<urllib3.connection.HTTPConnection object at 0x7f228fff9048>, 'Connection to img5.duitang.com timed out. (connect timeout=10)'))\n",
      "HTTPConnectionPool(host='pic.taocz.com', port=80): Max retries exceeded with url: /imgupload/baihuo/jiaju/20111115/303723.jpg (Caused by ConnectTimeoutError(<urllib3.connection.HTTPConnection object at 0x7f228fffcac8>, 'Connection to pic.taocz.com timed out. (connect timeout=10)'))\n",
      "HTTPConnectionPool(host='www.liyangtuopan.com', port=80): Read timed out. (read timeout=10)\n"
     ]
    }
   ],
   "source": [
    "for img in images_arr[last:]:\n",
    "    try:\n",
    "        r = requests.get(img['url'][0],timeout=10)\n",
    "        folder_path = 'train_data/'\n",
    "        with open(folder_path+str(img['image_id'])+'.jpg','wb') as f:\n",
    "            f.write(r.content)\n",
    "        f.close()\n",
    "\n",
    "    except Exception as e:\n",
    "        print(e)"
   ]
  },
  {
   "cell_type": "code",
   "execution_count": null,
   "metadata": {},
   "outputs": [],
   "source": []
  }
 ],
 "metadata": {
  "kernelspec": {
   "display_name": "Python 3",
   "language": "python",
   "name": "python3"
  },
  "language_info": {
   "codemirror_mode": {
    "name": "ipython",
    "version": 3
   },
   "file_extension": ".py",
   "mimetype": "text/x-python",
   "name": "python",
   "nbconvert_exporter": "python",
   "pygments_lexer": "ipython3",
   "version": "3.5.2"
  },
  "widgets": {
   "state": {},
   "version": "1.1.2"
  }
 },
 "nbformat": 4,
 "nbformat_minor": 2
}
