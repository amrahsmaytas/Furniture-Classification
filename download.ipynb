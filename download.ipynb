{
 "cells": [
  {
   "cell_type": "code",
   "execution_count": 1,
   "metadata": {},
   "outputs": [],
   "source": [
    "import os\n",
    "import requests\n",
    "import json\n",
    "import shutil\n",
    "\n",
    "os.chdir('imaterialist-challenge-furniture-2018/')\n",
    "\n",
    "train_data = json.load(open('train.json'))\n",
    "\n",
    "images_arr = train_data['images']\n",
    "annotations_arr = train_data['annotations']\n",
    "os.makedirs('train_data')"
   ]
  },
  {
   "cell_type": "code",
   "execution_count": null,
   "metadata": {},
   "outputs": [
    {
     "name": "stdout",
     "output_type": "stream",
     "text": [
      "HTTPConnectionPool(host='pic.taocz.com', port=80): Max retries exceeded with url: /imgupload/baihuo/jiaju/20111115/303723.jpg (Caused by ConnectTimeoutError(<urllib3.connection.HTTPConnection object at 0x7f38f3728470>, 'Connection to pic.taocz.com timed out. (connect timeout=10)'))\n",
      "HTTPConnectionPool(host='www.liyangtuopan.com', port=80): Read timed out. (read timeout=10)\n",
      "HTTPConnectionPool(host='www.cnjdz.net', port=80): Read timed out. (read timeout=10)\n",
      "HTTPConnectionPool(host='www.t-nan.com', port=80): Read timed out. (read timeout=10)\n",
      "HTTPConnectionPool(host='spic1.51fanli.net', port=80): Read timed out. (read timeout=10)\n",
      "HTTPConnectionPool(host='www.cnjdz.net', port=80): Read timed out. (read timeout=10)\n",
      "HTTPConnectionPool(host='pic.taocz.com', port=80): Max retries exceeded with url: /imgupload/baihuo/jiaju/20111115/303724-3.jpg (Caused by ConnectTimeoutError(<urllib3.connection.HTTPConnection object at 0x7f38f37376a0>, 'Connection to pic.taocz.com timed out. (connect timeout=10)'))\n",
      "HTTPConnectionPool(host='www.zerbuy.com', port=80): Max retries exceeded with url: /images/201708/goods_img/387_P_1503975407724.jpg (Caused by ConnectTimeoutError(<urllib3.connection.HTTPConnection object at 0x7f38f371e4e0>, 'Connection to www.zerbuy.com timed out. (connect timeout=10)'))\n",
      "HTTPConnectionPool(host='g.search.alicdn.com', port=80): Max retries exceeded with url: /i4/i1/TB1UFyRNpXXXXcyaXXXXXXXXXXX_!!0-item_pic.jpg (Caused by ConnectTimeoutError(<urllib3.connection.HTTPConnection object at 0x7f38f37288d0>, 'Connection to g.search.alicdn.com timed out. (connect timeout=10)'))\n",
      "Finished 1000 out of 194,828\n",
      "HTTPConnectionPool(host='zerbuy.com', port=80): Max retries exceeded with url: /images/201708/goods_img/383_P_1503972132005.jpg (Caused by ConnectTimeoutError(<urllib3.connection.HTTPConnection object at 0x7f38f3fb1828>, 'Connection to zerbuy.com timed out. (connect timeout=10)'))\n",
      "HTTPConnectionPool(host='pic.taocz.com', port=80): Max retries exceeded with url: /imgupload/baihuo/jiaju/20111115/303723-1.jpg (Caused by ConnectTimeoutError(<urllib3.connection.HTTPConnection object at 0x7f38f3728f60>, 'Connection to pic.taocz.com timed out. (connect timeout=10)'))\n",
      "HTTPConnectionPool(host='ggl.dalmt.com', port=80): Max retries exceeded with url: /statics/uploads/shopimg/20160321/76110541548298.jpg (Caused by ConnectTimeoutError(<urllib3.connection.HTTPConnection object at 0x7f38f3739400>, 'Connection to ggl.dalmt.com timed out. (connect timeout=10)'))\n",
      "HTTPConnectionPool(host='www.26zh.cn', port=80): Read timed out. (read timeout=10)\n",
      "HTTPConnectionPool(host='g-search4.alicdn.com', port=80): Max retries exceeded with url: /bao/uploaded/g-search2.alicdn.com/bao/uploaded/i3/11846030023635779/T1.ti3FghbXXXXXXXX_%21%212-item_pic.png (Caused by ConnectTimeoutError(<urllib3.connection.HTTPConnection object at 0x7f38f3737358>, 'Connection to g-search4.alicdn.com timed out. (connect timeout=10)'))\n",
      "HTTPConnectionPool(host='www.darchin.com', port=80): Max retries exceeded with url: /uploadfile/201511/20151103095703635821414236319403.jpg (Caused by ConnectTimeoutError(<urllib3.connection.HTTPConnection object at 0x7f38f370c588>, 'Connection to www.darchin.com timed out. (connect timeout=10)'))\n",
      "HTTPSConnectionPool(host='img12.360buyimg.com', port=443): Max retries exceeded with url: /imgzone/jfs/t4057/26/255299553/268308/155716c5/584531a6N1d98baf7.jpg (Caused by SSLError(SSLError(\"bad handshake: SysCallError(-1, 'Unexpected EOF')\",),))\n",
      "HTTPConnectionPool(host='www.zerbuy.com', port=80): Max retries exceeded with url: /images/201708/goods_img/387_P_1503975408221.jpg (Caused by ConnectTimeoutError(<urllib3.connection.HTTPConnection object at 0x7f38f371e400>, 'Connection to www.zerbuy.com timed out. (connect timeout=10)'))\n",
      "HTTPConnectionPool(host='www.zerbuy.com', port=80): Max retries exceeded with url: /images/201708/goods_img/387_P_1503975408093.jpg (Caused by ConnectTimeoutError(<urllib3.connection.HTTPConnection object at 0x7f38f3728898>, 'Connection to www.zerbuy.com timed out. (connect timeout=10)'))\n",
      "HTTPConnectionPool(host='www.eciyu.com', port=80): Max retries exceeded with url: /images/upload/Image/%E9%94%85%E5%85%B7/2l%E8%90%9D%E5%8D%9C%E5%9B%BE%E6%A1%88%E9%99%B6%E7%93%B7%E5%BD%A9%E8%89%B2%E5%85%BB%E7%94%9F%E7%A0%82%E9%94%85/%E4%B8%BB%E5%9B%BE/QQ%E5%9B%BE%E7%89%8720161221133805.png (Caused by ConnectTimeoutError(<urllib3.connection.HTTPConnection object at 0x7f38f3fa8ba8>, 'Connection to www.eciyu.com timed out. (connect timeout=10)'))\n",
      "('Connection aborted.', OSError(\"(104, 'ECONNRESET')\",))\n",
      "HTTPConnectionPool(host='www.zhuangshangyin.com', port=80): Max retries exceeded with url: /UploadFile/20150811/productImg/033d2435-ecb5-45fc-8374-9a1cf8a6ba61.jpgc600X600.jpg (Caused by ConnectTimeoutError(<urllib3.connection.HTTPConnection object at 0x7f38f3fb1898>, 'Connection to www.zhuangshangyin.com timed out. (connect timeout=10)'))\n",
      "HTTPConnectionPool(host='www.wanjushe.com', port=80): Read timed out. (read timeout=10)\n",
      "Finished 2000 out of 194,828\n",
      "('Connection aborted.', OSError(\"(104, 'ECONNRESET')\",))\n",
      "HTTPConnectionPool(host='img.wezhan.cn', port=80): Read timed out. (read timeout=10)\n"
     ]
    }
   ],
   "source": [
    "for img in images_arr:\n",
    "    if img['image_id'] % 1000 == 0:\n",
    "        print(\"Finished {} out of 194,828\".format(img['image_id']))\n",
    "    try:\n",
    "        r = requests.get(img['url'][0],timeout=10)\n",
    "        folder_path = 'train_data/'\n",
    "        with open(folder_path+str(img['image_id'])+'.jpg','wb') as f:\n",
    "            f.write(r.content)\n",
    "        f.close()\n",
    "\n",
    "    except Exception as e:\n",
    "        print(e)"
   ]
  },
  {
   "cell_type": "code",
   "execution_count": null,
   "metadata": {},
   "outputs": [],
   "source": []
  }
 ],
 "metadata": {
  "kernelspec": {
   "display_name": "Python 3",
   "language": "python",
   "name": "python3"
  },
  "language_info": {
   "codemirror_mode": {
    "name": "ipython",
    "version": 3
   },
   "file_extension": ".py",
   "mimetype": "text/x-python",
   "name": "python",
   "nbconvert_exporter": "python",
   "pygments_lexer": "ipython3",
   "version": "3.5.2"
  },
  "widgets": {
   "state": {},
   "version": "1.1.2"
  }
 },
 "nbformat": 4,
 "nbformat_minor": 2
}
